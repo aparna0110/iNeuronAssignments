{
 "cells": [
  {
   "cell_type": "markdown",
   "id": "0e20aa03",
   "metadata": {},
   "source": [
    "#### Problem 1:\n",
    "\n",
    "Write a function so that the columns of the output matrix are powers of the input\n",
    "vector.\n",
    "The order of the powers is determined by the increasing boolean argument. Specifically, when\n",
    "increasing is False, the i-th output column is the input vector raised element-wise to the power\n",
    "of N - i - 1.\n",
    "\n",
    "HINT: Such a matrix with a geometric progression in each row is named for Alexandre-\n",
    "Theophile Vandermonde."
   ]
  },
  {
   "cell_type": "code",
   "execution_count": 1,
   "id": "0fe12268",
   "metadata": {},
   "outputs": [],
   "source": [
    "import numpy as np\n",
    "from numpy.random import randint as ri"
   ]
  },
  {
   "cell_type": "markdown",
   "id": "c38a8825",
   "metadata": {},
   "source": [
    "### Desired output\n",
    "\n",
    "x = np.array([1, 2, 3, 5])\n",
    "np.vander(x)\n",
    "array([[  1,   1,   1,   1],\n",
    "       [  8,   4,   2,   1],\n",
    "       [ 27,   9,   3,   1],\n",
    "       [125,  25,   5,   1]])"
   ]
  },
  {
   "cell_type": "code",
   "execution_count": 30,
   "id": "99b58c45",
   "metadata": {},
   "outputs": [],
   "source": [
    "def gen_vander(x,N):\n",
    "    \"\"\"It will take a vector and generate a matrix with x**(N-1), x**(N-2)...\"\"\"\n",
    "    \n",
    "    print(np.column_stack([x**(N-1-i) for i in range(N)]))"
   ]
  },
  {
   "cell_type": "code",
   "execution_count": 32,
   "id": "2623829a",
   "metadata": {},
   "outputs": [
    {
     "name": "stdout",
     "output_type": "stream",
     "text": [
      "[[  1   1   1   1]\n",
      " [  8   4   2   1]\n",
      " [ 27   9   3   1]\n",
      " [125  25   5   1]]\n"
     ]
    }
   ],
   "source": [
    "x= np.array([1,2,3,5])\n",
    "\n",
    "gen_vander(x,4)"
   ]
  },
  {
   "cell_type": "markdown",
   "id": "95ab5661",
   "metadata": {},
   "source": [
    "#### Problem 2:\n",
    "\n",
    "Problem Statement 2:\n",
    "Given a sequence of n values x1, x2, ..., xn and a window size k>0, the k-th moving average of\n",
    "the given sequence is defined as follows:\n",
    "The moving average sequence has n-k+1 elements as shown below.\n",
    "The moving averages with k=4 of a ten-value sequence (n=10) is shown below\n",
    "i 1 2 3 4 5 6 7 8 9 10\n",
    "===== == == == == == == == == == ==\n",
    "Input 10 20 30 40 50 60 70 80 90 100\n",
    "y1 25 = (10+20+30+40)/4\n",
    "y2 35 = (20+30+40+50)/4\n",
    "y3 45 = (30+40+50+60)/4\n",
    "y4 55 = (40+50+60+70)/4\n",
    "y5 65 = (50+60+70+80)/4\n",
    "y6 75 = (60+70+80+90)/4\n",
    "y7 85 = (70+80+90+100)/4\n",
    "Thus, the moving average sequence has n-k+1=10-4+1=7 values."
   ]
  },
  {
   "cell_type": "code",
   "execution_count": 51,
   "id": "79e64074",
   "metadata": {},
   "outputs": [],
   "source": [
    "import numpy as np\n",
    "\n",
    "def running_mean(x, N):\n",
    "    cumsum = np.cumsum(np.insert(x, 0, 0)) \n",
    "    return (cumsum[N:] - cumsum[:-N]) / int(N)"
   ]
  },
  {
   "cell_type": "code",
   "execution_count": 59,
   "id": "aa0f43af",
   "metadata": {},
   "outputs": [
    {
     "data": {
      "text/plain": [
       "array([  5.        ,   4.66666667,   5.66666667,   6.66666667,\n",
       "         9.66666667,  28.66666667,  49.33333333,  72.66666667,\n",
       "        84.        ,  93.33333333, 116.33333333])"
      ]
     },
     "execution_count": 59,
     "metadata": {},
     "output_type": "execute_result"
    }
   ],
   "source": [
    "x=  [3, 5, 7, 2, 8, 10, 11, 65, 72, 81, 99, 100, 150] \n",
    "N= 3\n",
    "running_mean(x,N)"
   ]
  },
  {
   "cell_type": "markdown",
   "id": "1d8c1175",
   "metadata": {},
   "source": [
    "#### Problem 3:\n",
    "\n",
    "Write a function to find moving average in an array over a window:\n",
    "Test it over [3, 5, 7, 2, 8, 10, 11, 65, 72, 81, 99, 100, 150] and window of 3."
   ]
  }
 ],
 "metadata": {
  "kernelspec": {
   "display_name": "Python 3",
   "language": "python",
   "name": "python3"
  },
  "language_info": {
   "codemirror_mode": {
    "name": "ipython",
    "version": 3
   },
   "file_extension": ".py",
   "mimetype": "text/x-python",
   "name": "python",
   "nbconvert_exporter": "python",
   "pygments_lexer": "ipython3",
   "version": "3.8.8"
  }
 },
 "nbformat": 4,
 "nbformat_minor": 5
}
