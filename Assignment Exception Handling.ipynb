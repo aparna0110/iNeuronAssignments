{
 "cells": [
  {
   "cell_type": "markdown",
   "id": "d9c8a0c2",
   "metadata": {},
   "source": [
    "#### 1. Write a function to compute 5/0 and use try/except to catch the exceptions."
   ]
  },
  {
   "cell_type": "code",
   "execution_count": 5,
   "id": "0d80bf13",
   "metadata": {},
   "outputs": [],
   "source": [
    "def divide_num():\n",
    "    \"\"\"Function will take a input and divide 5 by the input value\"\"\"\n",
    "    try:\n",
    "        num = int(input(\" please enter a value  \"))\n",
    "        result = 5/num\n",
    "        return result\n",
    "    except Exception as e:\n",
    "        return e"
   ]
  },
  {
   "cell_type": "code",
   "execution_count": 7,
   "id": "1ec44dd1",
   "metadata": {},
   "outputs": [
    {
     "name": "stdout",
     "output_type": "stream",
     "text": [
      " please enter a value  0\n"
     ]
    },
    {
     "data": {
      "text/plain": [
       "ZeroDivisionError('division by zero')"
      ]
     },
     "execution_count": 7,
     "metadata": {},
     "output_type": "execute_result"
    }
   ],
   "source": [
    "divide_num()"
   ]
  },
  {
   "cell_type": "markdown",
   "id": "b861d5d1",
   "metadata": {},
   "source": [
    "#### 2. Implement a Python program to generate all sentences where subject is in\n",
    "[\"Americans\", \"Indians\"] and verb is in [\"Play\", \"watch\"] and the object is in\n",
    "[\"Baseball\",\"cricket\"].\n",
    "\n",
    "Hint: Subject,Verb and Object should be declared in the program as shown below.\n",
    "subjects=[\"Americans \",\"Indians\"]\n",
    "verbs=[\"play\",\"watch\"]\n",
    "objects=[\"Baseball\",\"Cricket\"]\n",
    "\n",
    "Output should come as below:\n",
    "    \n",
    "Americans play Baseball.\n",
    "Americans play Cricket.\n",
    "Americans watch Baseball.\n",
    "Americans watch Cricket.\n",
    "Indians play Baseball.\n",
    "Indians play Cricket.\n",
    "Indians watch Baseball.\n",
    "Indians watch Cricket.\n",
    "\n",
    "NOTE:ThesolutionsharedthroughGithubshouldcontainthesource"
   ]
  },
  {
   "cell_type": "markdown",
   "id": "c33d156d",
   "metadata": {},
   "source": [
    "#### Approach 1:"
   ]
  },
  {
   "cell_type": "code",
   "execution_count": 28,
   "id": "45c85c2d",
   "metadata": {},
   "outputs": [],
   "source": [
    "def gen_sentence():\n",
    "    \"\"\"It will take subject, verb and object from the list and generate all possible sentences\"\"\"\n",
    "    subjects = [\"Americans\", \"Indians\"]\n",
    "    verbs = [\"Play\", \"watch\"]\n",
    "    objects = [\"Baseball\",\"cricket\"]\n",
    "    for i in subjects:\n",
    "        for j in verbs:\n",
    "            for k in objects:\n",
    "                print(i+' '+j+' '+k,' ')\n",
    "    "
   ]
  },
  {
   "cell_type": "code",
   "execution_count": 29,
   "id": "6ab49bbf",
   "metadata": {},
   "outputs": [
    {
     "name": "stdout",
     "output_type": "stream",
     "text": [
      "Americans Play Baseball  \n",
      "Americans Play cricket  \n",
      "Americans watch Baseball  \n",
      "Americans watch cricket  \n",
      "Indians Play Baseball  \n",
      "Indians Play cricket  \n",
      "Indians watch Baseball  \n",
      "Indians watch cricket  \n"
     ]
    }
   ],
   "source": [
    "gen_sentence()"
   ]
  },
  {
   "cell_type": "markdown",
   "id": "7806c6df",
   "metadata": {},
   "source": [
    "#### Approach 2:"
   ]
  },
  {
   "cell_type": "code",
   "execution_count": 39,
   "id": "6cbbf7c2",
   "metadata": {},
   "outputs": [],
   "source": [
    "def gen_sentence():\n",
    "    \"\"\"It will take subject, verb and object from the list and generate all possible sentences\"\"\"\n",
    "    subjects = [\"Americans\", \"Indians\"]\n",
    "    verbs = [\"Play\", \"watch\"]\n",
    "    objects = [\"Baseball\",\"cricket\"]\n",
    "    sent_list = [(sub+' '+vb+ ' '+ob) for sub in subjects for vb in verbs for ob in objects]\n",
    "    for i in sent_list:\n",
    "        print(i)\n",
    "   "
   ]
  },
  {
   "cell_type": "code",
   "execution_count": 40,
   "id": "3e9c6be9",
   "metadata": {},
   "outputs": [
    {
     "name": "stdout",
     "output_type": "stream",
     "text": [
      "Americans Play Baseball\n",
      "Americans Play cricket\n",
      "Americans watch Baseball\n",
      "Americans watch cricket\n",
      "Indians Play Baseball\n",
      "Indians Play cricket\n",
      "Indians watch Baseball\n",
      "Indians watch cricket\n"
     ]
    }
   ],
   "source": [
    "gen_sentence()"
   ]
  },
  {
   "cell_type": "code",
   "execution_count": null,
   "id": "ead341cb",
   "metadata": {},
   "outputs": [],
   "source": []
  }
 ],
 "metadata": {
  "kernelspec": {
   "display_name": "Python 3",
   "language": "python",
   "name": "python3"
  },
  "language_info": {
   "codemirror_mode": {
    "name": "ipython",
    "version": 3
   },
   "file_extension": ".py",
   "mimetype": "text/x-python",
   "name": "python",
   "nbconvert_exporter": "python",
   "pygments_lexer": "ipython3",
   "version": "3.8.8"
  }
 },
 "nbformat": 4,
 "nbformat_minor": 5
}
